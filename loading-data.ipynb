{
 "cells": [
  {
   "cell_type": "markdown",
   "metadata": {},
   "source": [
    "# Loading .csv file\n",
    "\n",
    "- pip install pandas"
   ]
  },
  {
   "cell_type": "code",
   "execution_count": null,
   "metadata": {},
   "outputs": [],
   "source": [
    "import pandas as pd\n",
    "\n",
    "%matplotlib inline"
   ]
  },
  {
   "cell_type": "code",
   "execution_count": null,
   "metadata": {},
   "outputs": [],
   "source": [
    "df= pd.read_csv('https://docs.google.com/spreadsheets/d/e/2PACX-1vRFgDuKKTRhp0usuC2822r-LLCdvE6rbOvE3NQv7woRGYC7CivBcZv3bR39upD3QDM_NLd4jvp_x8qs/pub?gid=245492673&single=true&output=csv')"
   ]
  },
  {
   "cell_type": "markdown",
   "metadata": {},
   "source": [
    "### Solo para probar mostramos testeamos los headers"
   ]
  },
  {
   "cell_type": "code",
   "execution_count": null,
   "metadata": {},
   "outputs": [],
   "source": [
    "df.head()"
   ]
  },
  {
   "cell_type": "markdown",
   "metadata": {},
   "source": [
    "Podemos acceder a una columna a través del nombre directo del header (titulo de la columna)"
   ]
  },
  {
   "cell_type": "code",
   "execution_count": null,
   "metadata": {},
   "outputs": [],
   "source": [
    "df['¿En dónde te encuentras? (en formato de localidad que entienda Google Maps)']"
   ]
  },
  {
   "cell_type": "markdown",
   "metadata": {},
   "source": [
    "¿Ven? esos nombres enormes de columnas son difícil de recordar por lo que tenemos que renombrarlos de forma que manipular las columnas sea más fácil y puuuum"
   ]
  },
  {
   "cell_type": "markdown",
   "metadata": {},
   "source": [
    "### Renombrar columnas (headers)"
   ]
  },
  {
   "cell_type": "code",
   "execution_count": null,
   "metadata": {},
   "outputs": [],
   "source": [
    "df.columns = ['timestamp','name','country','location','experience','education','job','salary','why','gender']"
   ]
  },
  {
   "cell_type": "code",
   "execution_count": null,
   "metadata": {},
   "outputs": [],
   "source": [
    "df.head()"
   ]
  },
  {
   "cell_type": "markdown",
   "metadata": {},
   "source": [
    "### Visualización de incidencias por valor\n",
    "\n",
    "Con `value_counts()` obtenemos la cuenta de incidencias que hay para cada valor"
   ]
  },
  {
   "cell_type": "code",
   "execution_count": null,
   "metadata": {},
   "outputs": [],
   "source": [
    "df.country.value_counts()"
   ]
  },
  {
   "cell_type": "markdown",
   "metadata": {},
   "source": [
    "`len()` nos permite saber la cantidad de registros obtenidos"
   ]
  },
  {
   "cell_type": "code",
   "execution_count": null,
   "metadata": {},
   "outputs": [],
   "source": [
    "len(df.country.value_counts())"
   ]
  },
  {
   "cell_type": "markdown",
   "metadata": {},
   "source": [
    "Con `loc[]` podemos localizar registros específicos, por ejemplo ~solo queremos registros donde el país sea Mexico~:"
   ]
  },
  {
   "cell_type": "code",
   "execution_count": null,
   "metadata": {},
   "outputs": [],
   "source": [
    "df.loc[df.country=='Mexico'].head() # aplicamos un head() para obtener solo los primeros 5 registris"
   ]
  },
  {
   "cell_type": "markdown",
   "metadata": {},
   "source": [
    "... o conocer cuántos registros existen dada la consulta anterior con `len()`"
   ]
  },
  {
   "cell_type": "code",
   "execution_count": null,
   "metadata": {},
   "outputs": [],
   "source": [
    "len(df.loc[df.country=='Mexico'])"
   ]
  },
  {
   "cell_type": "code",
   "execution_count": null,
   "metadata": {},
   "outputs": [],
   "source": [
    "print('Existen {0} registros donde el país es Mexico'.format(len(df.loc[df.country=='Mexico'])))"
   ]
  },
  {
   "cell_type": "markdown",
   "metadata": {},
   "source": [
    "### Update de registros\n",
    "\n",
    "Ya que hemos visto como acceder a cada uno de los registros, vamos a aventar un update para ir arreglando los datos"
   ]
  },
  {
   "cell_type": "code",
   "execution_count": null,
   "metadata": {},
   "outputs": [],
   "source": [
    "df.loc[df.country=='Mexico', 'country'] = 'México'"
   ]
  },
  {
   "cell_type": "markdown",
   "metadata": {},
   "source": [
    "comprobamos que se haya realizado el update..."
   ]
  },
  {
   "cell_type": "code",
   "execution_count": null,
   "metadata": {},
   "outputs": [],
   "source": [
    "len(df.loc[df.country=='Mexico'])"
   ]
  },
  {
   "cell_type": "code",
   "execution_count": null,
   "metadata": {},
   "outputs": [],
   "source": [
    "len(df.loc[df.country=='México'])  #69 que habían con acento + 28 sin acento (ahora actualizados con acento)"
   ]
  },
  {
   "cell_type": "markdown",
   "metadata": {},
   "source": [
    "revisemos los primeros 5 registros arrojados de la query de conteo de países"
   ]
  },
  {
   "cell_type": "code",
   "execution_count": null,
   "metadata": {},
   "outputs": [],
   "source": [
    "df.country.value_counts()[:5]"
   ]
  },
  {
   "cell_type": "markdown",
   "metadata": {},
   "source": [
    "### Tabla de conversiones\n",
    "\n",
    "Esta 'tabla' la usaremos para ajustar las incidencias encontradas, donde el primer valor será el que buscaremos y el segundo será el valor que sustituirá al primero."
   ]
  },
  {
   "cell_type": "code",
   "execution_count": null,
   "metadata": {},
   "outputs": [],
   "source": [
    "conversions = [('MEXICO', 'México'),\n",
    "              ('Canada', 'Canadá'),\n",
    "              ('Estados Unidos', 'USA'),\n",
    "              ('Canada', 'Canadá'),\n",
    "              ('Xalapa', 'México'),\n",
    "              ('E.U.', 'USA'),\n",
    "              ('finlandia', 'Finlandia'),\n",
    "              ('Puebla', 'México'),\n",
    "              ('GUATEMALA', 'Guatelama'),\n",
    "              ('mexico', 'México'),\n",
    "              ('Kualalumpur', 'Malasia'),\n",
    "              ('EEUU', 'USA'),\n",
    "              ('Berna, suiza', 'Suiza'),\n",
    "              ('Montreal', 'Canadá'),\n",
    "              ('Japon', 'Japón'),\n",
    "              ('Alaska', 'USA'),\n",
    "              ('Usa', 'USA'),\n",
    "              ('EUA', 'USA'),\n",
    "              ('Salvador', 'El Salvador'),\n",
    "              ('COLOMBIA', 'Colombia'),\n",
    "              ('EL SALVADOR', 'El Salvador'),\n",
    "              ('Guatelama', 'Guatemala'),\n",
    "              ('Reino unido', 'Prefiero no decir'),\n",
    "              ('E.U.A.', 'USA')]"
   ]
  },
  {
   "cell_type": "code",
   "execution_count": null,
   "metadata": {},
   "outputs": [],
   "source": [
    "conversions[:3] #retorna los tres primeros elementos"
   ]
  },
  {
   "cell_type": "code",
   "execution_count": null,
   "metadata": {},
   "outputs": [],
   "source": [
    "conversions[3] #retorna el elemento en la posición 3"
   ]
  },
  {
   "cell_type": "code",
   "execution_count": null,
   "metadata": {},
   "outputs": [],
   "source": [
    "for i in conversions:\n",
    "    print('Update {0} -> {1}'.format(i[0], i[1]))\n",
    "    df.loc[df.country == i[0], 'country'] = i[1]"
   ]
  },
  {
   "cell_type": "code",
   "execution_count": null,
   "metadata": {},
   "outputs": [],
   "source": [
    "df.country.value_counts()"
   ]
  },
  {
   "cell_type": "code",
   "execution_count": null,
   "metadata": {},
   "outputs": [],
   "source": [
    "len(df.country.value_counts())"
   ]
  },
  {
   "cell_type": "markdown",
   "metadata": {},
   "source": [
    "### Para terminar el ejercicio, exportaremos los datos limpios a un nuevo archivo\n"
   ]
  },
  {
   "cell_type": "code",
   "execution_count": null,
   "metadata": {},
   "outputs": [],
   "source": [
    "df.to_excel('datos-limpios.xlsx', index=False) # para sacarlos como excel o..."
   ]
  },
  {
   "cell_type": "code",
   "execution_count": null,
   "metadata": {},
   "outputs": [],
   "source": [
    "df.to_csv('datos-limpios.csv', index=False) # mejor .csv"
   ]
  },
  {
   "cell_type": "code",
   "execution_count": null,
   "metadata": {},
   "outputs": [],
   "source": []
  }
 ],
 "metadata": {
  "kernelspec": {
   "display_name": "Python 3",
   "language": "python",
   "name": "python3"
  },
  "language_info": {
   "codemirror_mode": {
    "name": "ipython",
    "version": 3
   },
   "file_extension": ".py",
   "mimetype": "text/x-python",
   "name": "python",
   "nbconvert_exporter": "python",
   "pygments_lexer": "ipython3",
   "version": "3.6.5"
  }
 },
 "nbformat": 4,
 "nbformat_minor": 2
}
